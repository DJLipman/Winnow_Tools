{
 "cells": [
  {
   "cell_type": "code",
   "execution_count": 1,
   "metadata": {},
   "outputs": [],
   "source": [
    "import numpy as np\n",
    "import copy"
   ]
  },
  {
   "cell_type": "code",
   "execution_count": 16,
   "metadata": {},
   "outputs": [],
   "source": [
    "def winnow1_retrain(x_data: np.array, y_data: np.array, weights: np.array, theta: float, learningRate: float=2, verbose: bool=False) -> tuple:\n",
    "    '''\n",
    "    Input an array of features, the associated binary (0,1) labels, the weights, the threshold, and an optional learning rate.\n",
    "    Returns the updated weights and the number of errors based upon Littlestone's Winnow1 algorithm.\n",
    "    '''\n",
    "    weights = copy.copy(weights).astype(float)\n",
    "    errors = 0\n",
    "    \n",
    "    for i in range(len(y_data)):\n",
    "        \n",
    "        xt = x_data[i]\n",
    "        yt = y_data[i]\n",
    "        if verbose:\n",
    "            print('data:',xt,'label:',yt)\n",
    "\n",
    "        wx = np.dot(weights, xt)\n",
    "        if verbose:\n",
    "            print('linear classifier:',wx)\n",
    "\n",
    "        if wx < theta and yt == 1:\n",
    "            errors += 1\n",
    "            wt = np.multiply(xt,(learningRate - 1) * weights)\n",
    "            weights += wt\n",
    "            if verbose:\n",
    "                print('false positive updated weights:',weights)\n",
    "        if wx > theta and yt == 0:\n",
    "            errors += 1\n",
    "            weights = np.multiply(np.ones_like(xt)-xt,weights)\n",
    "            if verbose:\n",
    "                print('false negative updated weights:',weights)\n",
    "    # Returns the results\n",
    "    return [weights, errors]"
   ]
  },
  {
   "cell_type": "code",
   "execution_count": 19,
   "metadata": {},
   "outputs": [],
   "source": [
    "def winnow2_retrain(x_data: np.array, y_data: np.array, weights: np.array, theta: float, learningRate: float=2, verbose: bool=True) -> tuple:\n",
    "    '''\n",
    "    Input an array of features, the associated binary (0,1) labels, the weights, the threshold, and an optional learning rate.\n",
    "    Returns the updated weights and the number of errors based upon Littlestone's Winnow2 algorithm.\n",
    "    '''\n",
    "    weights = copy.copy(weights).astype(float)\n",
    "    errors = 0\n",
    "    \n",
    "    for i in range(len(y_data)):\n",
    "        \n",
    "        xt = x_data[i]\n",
    "        yt = y_data[i]\n",
    "        if verbose:\n",
    "            print('data:',xt,'label:',yt)\n",
    "\n",
    "        wx = np.dot(weights, xt)\n",
    "        if verbose:\n",
    "            print('linear classifier:',wx)\n",
    "\n",
    "        if wx < theta and yt == 1:\n",
    "            errors += 1\n",
    "            wt = np.multiply(xt,(learningRate - 1) * weights)\n",
    "            weights += wt\n",
    "            if verbose:\n",
    "                print('false positive updated weights:',weights)\n",
    "        if wx > theta and yt == 0:\n",
    "            errors += 1\n",
    "            wt = np.multiply(xt,(float(learningRate)**(-1) - 1) * weights)\n",
    "            weights += wt\n",
    "            if verbose:\n",
    "                print('false negative updated weights:',weights)\n",
    "    # Returns the results\n",
    "    return [weights, errors]"
   ]
  },
  {
   "cell_type": "code",
   "execution_count": 4,
   "metadata": {},
   "outputs": [],
   "source": [
    "x_data = np.array([[1, 1, 1, 1, 0, 0, 0, 0, 0, 0, 0],[1, 0, 0, 1, 0, 1, 0, 1, 0, 1, 0]])\n",
    "weights = np.array([1, 1, 1, 1, 1, 1, 1, 1, 1, 1, 1])\n",
    "y_data = np.array([1,0])"
   ]
  },
  {
   "cell_type": "code",
   "execution_count": 18,
   "metadata": {},
   "outputs": [
    {
     "name": "stdout",
     "output_type": "stream",
     "text": [
      "data: [1 1 1 1 0 0 0 0 0 0 0] label: 1\n",
      "linear classifier: 4.0\n",
      "false positive updated weights: [2. 2. 2. 2. 1. 1. 1. 1. 1. 1. 1.]\n",
      "data: [1 0 0 1 0 1 0 1 0 1 0] label: 0\n",
      "linear classifier: 7.0\n",
      "false negative updated weights: [0. 2. 2. 0. 1. 0. 1. 0. 1. 0. 1.]\n"
     ]
    },
    {
     "data": {
      "text/plain": [
       "[array([0., 2., 2., 0., 1., 0., 1., 0., 1., 0., 1.]), 2]"
      ]
     },
     "execution_count": 18,
     "metadata": {},
     "output_type": "execute_result"
    }
   ],
   "source": [
    "winnow1_retrain(x_data,y_data,weights,5.5,verbose=True)"
   ]
  },
  {
   "cell_type": "code",
   "execution_count": 6,
   "metadata": {},
   "outputs": [
    {
     "name": "stdout",
     "output_type": "stream",
     "text": [
      "data: [1 1 1 1 0 0 0 0 0 0 0] label: 1\n",
      "linear classifier: 4.0\n",
      "false positive updated weights: [2. 2. 2. 2. 1. 1. 1. 1. 1. 1. 1.]\n",
      "data: [1 0 0 1 0 1 0 1 0 1 0] label: 0\n",
      "linear classifier: 7.0\n",
      "false negative updated weights: [1.  2.  2.  1.  1.  0.5 1.  0.5 1.  0.5 1. ]\n"
     ]
    },
    {
     "data": {
      "text/plain": [
       "[array([1. , 2. , 2. , 1. , 1. , 0.5, 1. , 0.5, 1. , 0.5, 1. ]), 2]"
      ]
     },
     "execution_count": 6,
     "metadata": {},
     "output_type": "execute_result"
    }
   ],
   "source": [
    "winnow2_retrain(x_data,y_data,weights.astype(float),5.5)"
   ]
  },
  {
   "cell_type": "code",
   "execution_count": 10,
   "metadata": {},
   "outputs": [],
   "source": [
    "def winnow_initializer(x_data_sample: np.array, init_weight: float=1) -> tuple:\n",
    "    '''\n",
    "    Input a sample data point,\n",
    "    Returns a set of initial weights, and an initial theta threshold\n",
    "    '''\n",
    "    weights = init_weight * np.ones_like(x_data_sample)\n",
    "    theta = x_data_sample.shape[0]/2\n",
    "    return(weights,theta)"
   ]
  },
  {
   "cell_type": "code",
   "execution_count": 9,
   "metadata": {},
   "outputs": [
    {
     "data": {
      "text/plain": [
       "5.5"
      ]
     },
     "execution_count": 9,
     "metadata": {},
     "output_type": "execute_result"
    }
   ],
   "source": [
    "x_data[1].shape[0]/2"
   ]
  },
  {
   "cell_type": "code",
   "execution_count": 11,
   "metadata": {},
   "outputs": [
    {
     "data": {
      "text/plain": [
       "(array([1, 1, 1, 1, 1, 1, 1, 1, 1, 1, 1]), 5.5)"
      ]
     },
     "execution_count": 11,
     "metadata": {},
     "output_type": "execute_result"
    }
   ],
   "source": [
    "winnow_initializer(x_data[0])"
   ]
  },
  {
   "cell_type": "code",
   "execution_count": 12,
   "metadata": {},
   "outputs": [],
   "source": [
    "def winnow_initializer_values(x_len: int, init_weight: float=1) -> tuple:\n",
    "    '''\n",
    "    Input a sample data point,\n",
    "    Returns a set of initial weights, and an initial theta threshold\n",
    "    '''\n",
    "    weights = init_weight * np.ones(x_len)\n",
    "    theta = x_len/2\n",
    "    return(weights,theta)"
   ]
  },
  {
   "cell_type": "code",
   "execution_count": 13,
   "metadata": {},
   "outputs": [
    {
     "data": {
      "text/plain": [
       "(array([1., 1., 1., 1., 1., 1., 1., 1., 1., 1., 1.]), 5.5)"
      ]
     },
     "execution_count": 13,
     "metadata": {},
     "output_type": "execute_result"
    }
   ],
   "source": [
    "winnow_initializer_values(11)"
   ]
  },
  {
   "cell_type": "code",
   "execution_count": 20,
   "metadata": {},
   "outputs": [
    {
     "data": {
      "text/plain": [
       "1"
      ]
     },
     "execution_count": 20,
     "metadata": {},
     "output_type": "execute_result"
    }
   ],
   "source": [
    "np.random.binomial(n=1,p=.45)"
   ]
  },
  {
   "cell_type": "code",
   "execution_count": null,
   "metadata": {},
   "outputs": [],
   "source": []
  }
 ],
 "metadata": {
  "kernelspec": {
   "display_name": "Python 3",
   "language": "python",
   "name": "python3"
  },
  "language_info": {
   "codemirror_mode": {
    "name": "ipython",
    "version": 3
   },
   "file_extension": ".py",
   "mimetype": "text/x-python",
   "name": "python",
   "nbconvert_exporter": "python",
   "pygments_lexer": "ipython3",
   "version": "3.7.3"
  }
 },
 "nbformat": 4,
 "nbformat_minor": 2
}
